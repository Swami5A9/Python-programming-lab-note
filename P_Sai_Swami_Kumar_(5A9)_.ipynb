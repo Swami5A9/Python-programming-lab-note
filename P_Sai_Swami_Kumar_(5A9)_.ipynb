{
  "nbformat": 4,
  "nbformat_minor": 0,
  "metadata": {
    "colab": {
      "name": "P.Sai Swami Kumar (5A9) .ipynb",
      "provenance": [],
      "authorship_tag": "ABX9TyNN6abTbjkhJ99iNvR7TFR2",
      "include_colab_link": true
    },
    "kernelspec": {
      "name": "python3",
      "display_name": "Python 3"
    },
    "language_info": {
      "name": "python"
    }
  },
  "cells": [
    {
      "cell_type": "markdown",
      "metadata": {
        "id": "view-in-github",
        "colab_type": "text"
      },
      "source": [
        "<a href=\"https://colab.research.google.com/github/Swami5A9/Python-programming-lab-note/blob/main/P_Sai_Swami_Kumar_(5A9)_.ipynb\" target=\"_parent\"><img src=\"https://colab.research.google.com/assets/colab-badge.svg\" alt=\"Open In Colab\"/></a>"
      ]
    },
    {
      "cell_type": "markdown",
      "metadata": {
        "id": "4Sg2OL6XLImF"
      },
      "source": [
        " Excerise-1 Basics"
      ]
    },
    {
      "cell_type": "markdown",
      "metadata": {
        "id": "cJI956471Q5P"
      },
      "source": [
        "a) Running instructions in iterative interperter and a python script"
      ]
    },
    {
      "cell_type": "code",
      "metadata": {
        "colab": {
          "base_uri": "https://localhost:8080/"
        },
        "id": "efRjwmsPLel1",
        "outputId": "6ef79568-88cd-40a0-ff57-af53c4183260"
      },
      "source": [
        "a,b,c=\"Swami\",\"5A9\",8.8\n",
        "print (type(a))\n",
        "print (type(b))\n",
        "print (type (c))"
      ],
      "execution_count": null,
      "outputs": [
        {
          "output_type": "stream",
          "text": [
            "<class 'str'>\n",
            "<class 'str'>\n",
            "<class 'float'>\n"
          ],
          "name": "stdout"
        }
      ]
    },
    {
      "cell_type": "markdown",
      "metadata": {
        "id": "wzS6jb_BL9Qt"
      },
      "source": [
        "b) Write a program to purposefully raise indentation error and correct it."
      ]
    },
    {
      "cell_type": "code",
      "metadata": {
        "colab": {
          "base_uri": "https://localhost:8080/",
          "height": 163
        },
        "id": "vlvMsZ-CMJci",
        "outputId": "65b6b02f-23fa-4d50-dfa5-338c17ac0fc0"
      },
      "source": [
        "a=int(input (\"Enter a value\"))\n",
        "b=int(input (\"Enter b value\"))\n",
        "if a>b:\n",
        "print (\"If block\")\n",
        "print (\"%d is big\",a)\n",
        "else :\n",
        "print (\"else block\")\n",
        "print (\"%d is big\",b)"
      ],
      "execution_count": null,
      "outputs": [
        {
          "output_type": "error",
          "ename": "IndentationError",
          "evalue": "ignored",
          "traceback": [
            "\u001b[0;36m  File \u001b[0;32m\"<ipython-input-2-d955435fba48>\"\u001b[0;36m, line \u001b[0;32m4\u001b[0m\n\u001b[0;31m    print (\"If block\")\u001b[0m\n\u001b[0m        ^\u001b[0m\n\u001b[0;31mIndentationError\u001b[0m\u001b[0;31m:\u001b[0m expected an indented block\n"
          ]
        }
      ]
    },
    {
      "cell_type": "code",
      "metadata": {
        "colab": {
          "base_uri": "https://localhost:8080/"
        },
        "id": "tnB5InVWM5bR",
        "outputId": "0c6e1758-f8bf-49bc-8918-61ddfaee09f1"
      },
      "source": [
        " a=int(input (\"Enter a value\"))\n",
        "b=int(input (\"Enter b value\"))\n",
        "if a>b:\n",
        "  print (\"If block\")\n",
        "  print (\"%d is big\",a)\n",
        "else :\n",
        "  print (\"else block\")\n",
        "  print (\"%d is big\",b)"
      ],
      "execution_count": null,
      "outputs": [
        {
          "output_type": "stream",
          "text": [
            "Enter a value2\n",
            "Enter b value6\n",
            "else block\n",
            "%d is big 6\n"
          ],
          "name": "stdout"
        }
      ]
    },
    {
      "cell_type": "markdown",
      "metadata": {
        "id": "625hqXrPbfy_"
      },
      "source": [
        "Exercise-2"
      ]
    },
    {
      "cell_type": "markdown",
      "metadata": {
        "id": "KAxXVcCebuzk"
      },
      "source": [
        " a) Write a program to compute distance between two points taking input from the user(Pythagorean \n",
        "Theorem)"
      ]
    },
    {
      "cell_type": "code",
      "metadata": {
        "colab": {
          "base_uri": "https://localhost:8080/"
        },
        "id": "CLbgX_96bzGZ",
        "outputId": "37a5ef34-c02f-4156-9cfd-422eb526a32c"
      },
      "source": [
        "import math\n",
        "x1=int(input (\"Enter x1 value\"))\n",
        "x2=int(input (\"Enter x2 value\"))\n",
        "y1=int(input (\"Enter y1 value\"))\n",
        "y2=int(input (\"Enter y2 value\"))\n",
        " \n",
        "d=math.sqrt(((x2-x1)**2)+((y2-y1)**2))\n",
        " \n",
        "print(\"Distances between two points is(%d,%d) and (%d,%d) is %f\"%(x1,x2,y1,y2,d))"
      ],
      "execution_count": null,
      "outputs": [
        {
          "output_type": "stream",
          "text": [
            "Enter x1 value5\n",
            "Enter x2 value6\n",
            "Enter y1 value49\n",
            "Enter y2 value45\n",
            "Distances between two points is(5,6) and (49,45) is 4.123106\n"
          ],
          "name": "stdout"
        }
      ]
    },
    {
      "cell_type": "markdown",
      "metadata": {
        "id": "PzV6NUe7dP51"
      },
      "source": [
        "b) write a program add.py that takes 2 numbers as command line arguments and prints it's sum"
      ]
    },
    {
      "cell_type": "code",
      "metadata": {
        "colab": {
          "base_uri": "https://localhost:8080/",
          "height": 333
        },
        "id": "upxeQCUqdjdD",
        "outputId": "a055dedf-f1b8-4d92-9c76-5b679d306c95"
      },
      "source": [
        " \n",
        "import sys\n",
        " \n",
        "a=int(sys.argv[1])\n",
        "b=int(sys.argv[2])\n",
        "Sum=a+b\n",
        "print (\"Sum of two numbers is :\",Sum)"
      ],
      "execution_count": null,
      "outputs": [
        {
          "output_type": "error",
          "ename": "ValueError",
          "evalue": "ignored",
          "traceback": [
            "\u001b[0;31m---------------------------------------------------------------------------\u001b[0m",
            "\u001b[0;31mValueError\u001b[0m                                Traceback (most recent call last)",
            "\u001b[0;32m<ipython-input-9-4f8a746fea7b>\u001b[0m in \u001b[0;36m<module>\u001b[0;34m()\u001b[0m\n\u001b[1;32m      2\u001b[0m \u001b[0;32mimport\u001b[0m \u001b[0msys\u001b[0m\u001b[0;34m\u001b[0m\u001b[0;34m\u001b[0m\u001b[0m\n\u001b[1;32m      3\u001b[0m \u001b[0;34m\u001b[0m\u001b[0m\n\u001b[0;32m----> 4\u001b[0;31m \u001b[0ma\u001b[0m\u001b[0;34m=\u001b[0m\u001b[0mint\u001b[0m\u001b[0;34m(\u001b[0m\u001b[0msys\u001b[0m\u001b[0;34m.\u001b[0m\u001b[0margv\u001b[0m\u001b[0;34m[\u001b[0m\u001b[0;36m1\u001b[0m\u001b[0;34m]\u001b[0m\u001b[0;34m)\u001b[0m\u001b[0;34m\u001b[0m\u001b[0;34m\u001b[0m\u001b[0m\n\u001b[0m\u001b[1;32m      5\u001b[0m \u001b[0mb\u001b[0m\u001b[0;34m=\u001b[0m\u001b[0mint\u001b[0m\u001b[0;34m(\u001b[0m\u001b[0msys\u001b[0m\u001b[0;34m.\u001b[0m\u001b[0margv\u001b[0m\u001b[0;34m[\u001b[0m\u001b[0;36m2\u001b[0m\u001b[0;34m]\u001b[0m\u001b[0;34m)\u001b[0m\u001b[0;34m\u001b[0m\u001b[0;34m\u001b[0m\u001b[0m\n\u001b[1;32m      6\u001b[0m \u001b[0mSum\u001b[0m\u001b[0;34m=\u001b[0m\u001b[0ma\u001b[0m\u001b[0;34m+\u001b[0m\u001b[0mb\u001b[0m\u001b[0;34m\u001b[0m\u001b[0;34m\u001b[0m\u001b[0m\n",
            "\u001b[0;31mValueError\u001b[0m: invalid literal for int() with base 10: '-f'"
          ]
        }
      ]
    },
    {
      "cell_type": "markdown",
      "metadata": {
        "id": "H8HmjFHDT_1h"
      },
      "source": [
        "Exercise-3"
      ]
    },
    {
      "cell_type": "markdown",
      "metadata": {
        "id": "Oy2QWsEuUA7R"
      },
      "source": [
        " a) Write a Program for checking whether the given number is an even number or not."
      ]
    },
    {
      "cell_type": "code",
      "metadata": {
        "colab": {
          "base_uri": "https://localhost:8080/"
        },
        "id": "KDmkCI7CUmjW",
        "outputId": "fcd9e965-ee6a-436c-fc6b-b6f0104238d9"
      },
      "source": [
        "n=int(input (\"Enter n value\"))\n",
        "if(n%2==0):\n",
        "  print (\"Given number is even\",n);\n",
        "else:\n",
        " print (\"Given number is odd\",n);"
      ],
      "execution_count": null,
      "outputs": [
        {
          "output_type": "stream",
          "text": [
            "Enter n value49\n",
            "Given number is odd 49\n"
          ],
          "name": "stdout"
        }
      ]
    },
    {
      "cell_type": "markdown",
      "metadata": {
        "id": "pYY9bUxGVQwW"
      },
      "source": [
        " b) Using a for loop, write a program that prints out the decimal equivalents of 1/2, 1/3, 1/4, . . .1/10"
      ]
    },
    {
      "cell_type": "code",
      "metadata": {
        "colab": {
          "base_uri": "https://localhost:8080/"
        },
        "id": "wvdWGVlSVcMk",
        "outputId": "73586f81-14d2-461e-f379-aa2f21aedc14"
      },
      "source": [
        "n=int(input (\"Enter n value\"))\n",
        "j=1\n",
        "i=1\n",
        "while (i<=n):\n",
        "  print (\"%f is decimal equivalent for %d/%d \"%(j/i,j,i))\n",
        "  i+=1"
      ],
      "execution_count": null,
      "outputs": [
        {
          "output_type": "stream",
          "text": [
            "Enter n value10\n",
            "1.000000 is decimal equivalent for 1/1 \n",
            "0.500000 is decimal equivalent for 1/2 \n",
            "0.333333 is decimal equivalent for 1/3 \n",
            "0.250000 is decimal equivalent for 1/4 \n",
            "0.200000 is decimal equivalent for 1/5 \n",
            "0.166667 is decimal equivalent for 1/6 \n",
            "0.142857 is decimal equivalent for 1/7 \n",
            "0.125000 is decimal equivalent for 1/8 \n",
            "0.111111 is decimal equivalent for 1/9 \n",
            "0.100000 is decimal equivalent for 1/10 \n"
          ],
          "name": "stdout"
        }
      ]
    },
    {
      "cell_type": "markdown",
      "metadata": {
        "id": "wGkmoUQ5W_YP"
      },
      "source": [
        " c) Write a program using a for loop that loops over a sequence. What is sequence?"
      ]
    },
    {
      "cell_type": "code",
      "metadata": {
        "colab": {
          "base_uri": "https://localhost:8080/"
        },
        "id": "9ya_94lsXEzJ",
        "outputId": "218c490a-e8b7-4533-ec64-a74d4eca5715"
      },
      "source": [
        "num=[45,26,6,7,9,34,89] \n",
        "for i in num:\n",
        "  print (i)"
      ],
      "execution_count": null,
      "outputs": [
        {
          "output_type": "stream",
          "text": [
            "45\n",
            "26\n",
            "6\n",
            "7\n",
            "9\n",
            "34\n",
            "89\n"
          ],
          "name": "stdout"
        }
      ]
    },
    {
      "cell_type": "markdown",
      "metadata": {
        "id": "vR8MBu1fXhlN"
      },
      "source": [
        " d) Write a program using a while loop that asks the user for a number, and prints a countdownfrom the number to zero"
      ]
    },
    {
      "cell_type": "code",
      "metadata": {
        "colab": {
          "base_uri": "https://localhost:8080/"
        },
        "id": "tjnaFR8SXw_c",
        "outputId": "5135e36b-d80d-495e-b778-206a6722b4cd"
      },
      "source": [
        "n=int(input (\"Enter n value\"))\n",
        "while(n>=0):\n",
        "  print (n)\n",
        "  n-=1"
      ],
      "execution_count": null,
      "outputs": [
        {
          "output_type": "stream",
          "text": [
            "Enter n value5\n",
            "5\n",
            "4\n",
            "3\n",
            "2\n",
            "1\n",
            "0\n"
          ],
          "name": "stdout"
        }
      ]
    },
    {
      "cell_type": "markdown",
      "metadata": {
        "id": "qThpqTOCYOvy"
      },
      "source": [
        " Exercise - 4 Control Flow - Continued"
      ]
    },
    {
      "cell_type": "markdown",
      "metadata": {
        "id": "c5A1vP4xRMJI"
      },
      "source": [
        " a) Find sum of prime numbers below below 2 million"
      ]
    },
    {
      "cell_type": "code",
      "metadata": {
        "colab": {
          "base_uri": "https://localhost:8080/"
        },
        "id": "xXZjwNAeRQ4g",
        "outputId": "0f2f3f50-7752-4d4a-aa57-078f752b4246"
      },
      "source": [
        " \n",
        "n=int(input(\"Enter n value\"))\n",
        "i=2\n",
        "c=0\n",
        "sum=0\n",
        "for i in range(i,n):\n",
        "   count=0\n",
        "   for j in range(2,i): \n",
        "      if i%j==0: \n",
        "        count+=1 \n",
        "        break\n",
        "   if count==0: \n",
        "      sum=sum+i \n",
        "      c=c+1\n",
        "print(\"The number prime numbers below the number %d is %d\"%(n,c))\n",
        "print(\"Sum of all prime numbers is %d\"%(sum))"
      ],
      "execution_count": null,
      "outputs": [
        {
          "output_type": "stream",
          "text": [
            "Enter n value2000\n",
            "The number prime numbers below the number 2000 is 303\n",
            "Sum of all prime numbers is 277050\n"
          ],
          "name": "stdout"
        }
      ]
    },
    {
      "cell_type": "markdown",
      "metadata": {
        "id": "bZvvjkzvVsSK"
      },
      "source": [
        " b)Bystarting with 1 and 2, the first 10 terms will be:\n",
        "1, 2, 3, 5, 8, 13, 21, 34, 55, 89, ..."
      ]
    },
    {
      "cell_type": "code",
      "metadata": {
        "colab": {
          "base_uri": "https://localhost:8080/"
        },
        "id": "b5lc5PtgXEzK",
        "outputId": "5577b576-07cf-42e9-b740-0f0c43b9ea73"
      },
      "source": [
        " \n",
        "n=int(input(\"Enter the number of terms\")) \n",
        "a=0\n",
        "b=1 \n",
        "c=a+b\n",
        "count=0\n",
        "st= \" \" \n",
        "while count<n: \n",
        "   st+=\" \"+str(c)\n",
        "   a=b\n",
        "   b=c\n",
        "   c=a+b\n",
        "   count+=1\n",
        "print(st)"
      ],
      "execution_count": null,
      "outputs": [
        {
          "output_type": "stream",
          "text": [
            "Enter the number of terms10\n",
            "  1 2 3 5 8 13 21 34 55 89\n"
          ],
          "name": "stdout"
        }
      ]
    },
    {
      "cell_type": "markdown",
      "metadata": {
        "id": "dkdSxDMWXMg5"
      },
      "source": [
        " c) By considering the terms in the Fibonacci sequence whose values do not exceed four million,find the sum of the even-valued terms"
      ]
    },
    {
      "cell_type": "code",
      "metadata": {
        "id": "FiVThwCoYG99",
        "colab": {
          "base_uri": "https://localhost:8080/"
        },
        "outputId": "45640ad5-72e7-47dc-e174-bc3797b3e590"
      },
      "source": [
        " \n",
        "n=int(input(\"Enter the number of terms\")) \n",
        "a=0\n",
        "b=1 \n",
        "c=a+b\n",
        "sum=0\n",
        "count=0\n",
        "st= \" \" \n",
        "while count<n: \n",
        "   st+=\" \"+str(c)\n",
        "   if (c%2==0):\n",
        "       sum+=c\n",
        "   a=b\n",
        "   b=c\n",
        "   c=a+b\n",
        "   count+=1\n",
        "print(\"fibonacci series ...\")\n",
        "print(st)\n",
        "print(\"Sum of the even valued terms  fibnoicc series is \",sum)"
      ],
      "execution_count": null,
      "outputs": [
        {
          "output_type": "stream",
          "text": [
            "Enter the number of terms10\n",
            "fibonacci series ...\n",
            "  1 2 3 5 8 13 21 34 55 89\n",
            "Sum of the even valued terms  fibnoicc series is  44\n"
          ],
          "name": "stdout"
        }
      ]
    },
    {
      "cell_type": "markdown",
      "metadata": {
        "id": "_qVznGyBZRy-"
      },
      "source": [
        "Exercise -5a"
      ]
    },
    {
      "cell_type": "markdown",
      "metadata": {
        "id": "NBQs86D2ZgRj"
      },
      "source": [
        " a) Write a program to count the numbers of characters in the string and store them in adictionary data \n",
        "structure"
      ]
    },
    {
      "cell_type": "code",
      "metadata": {
        "colab": {
          "base_uri": "https://localhost:8080/"
        },
        "id": "pmr-9HC8Zrab",
        "outputId": "ef2e3f6c-c45a-4505-bdfa-785f7aaca6cc"
      },
      "source": [
        "list=[ ]\n",
        "d={ }\n",
        "n=int(input (\"Enter your list size\"))\n",
        "for i in range (0,n):\n",
        "  x=input (\"Enter your string\")\n",
        "  list.append(x)\n",
        "for i in range (0,n):\n",
        "  y=0\n",
        "  y=len(list[i])\n",
        "  print (\"The number characters in string %s is %d\"%(list[i],y))\n",
        "  d.update({list[i]:y})\n",
        "print(d)"
      ],
      "execution_count": null,
      "outputs": [
        {
          "output_type": "stream",
          "text": [
            "Enter your list size3\n",
            "Enter your stringSai\n",
            "Enter your stringSwami\n",
            "Enter your stringKumar\n",
            "The number characters in string Sai is 3\n",
            "The number characters in string Swami is 5\n",
            "The number characters in string Kumar is 5\n",
            "{'Sai': 3, 'Swami': 5, 'Kumar': 5}\n"
          ],
          "name": "stdout"
        }
      ]
    },
    {
      "cell_type": "markdown",
      "metadata": {
        "id": "Ua1hKftuZS3p"
      },
      "source": [
        "b) Write a program to use split and join method in the string and trace a birthday with dictionary data structure"
      ]
    },
    {
      "cell_type": "code",
      "metadata": {
        "id": "jNh2D1Y-IN59",
        "colab": {
          "base_uri": "https://localhost:8080/"
        },
        "outputId": "3c35b23b-a5c1-4eb8-fcde-a21922fac01a"
      },
      "source": [
        "dob={\"Swami\":\"10-07-2002\",\"Sai\":\"23-06-2002\"}\n",
        "name=input (\"Which person date of birth you want\")\n",
        "l=name.split()\n",
        "brith=\" \"\n",
        "for i in l:\n",
        "   if i in dob.keys():\n",
        "       pres=i \n",
        "print (\" \".join([pres,\"Birthday is\",dob[pres]]))"
      ],
      "execution_count": null,
      "outputs": [
        {
          "output_type": "stream",
          "text": [
            "Which person date of birth you wantSwami\n",
            "Swami Birthday is 10-07-2002\n"
          ],
          "name": "stdout"
        }
      ]
    },
    {
      "cell_type": "markdown",
      "metadata": {
        "id": "AEl8R31LSYKL"
      },
      "source": [
        "Exercise -6 DS continue"
      ]
    },
    {
      "cell_type": "markdown",
      "metadata": {
        "id": "9hPf7RdmHVBA"
      },
      "source": [
        " a) Write a program combinelists that combines these lists into a dictionary."
      ]
    },
    {
      "cell_type": "code",
      "metadata": {
        "colab": {
          "base_uri": "https://localhost:8080/"
        },
        "id": "BTY5pOoPSjyc",
        "outputId": "29198847-1f98-4752-f9fb-b2595e039c49"
      },
      "source": [
        " \n",
        "sub=[\"daa\",\"os\",\"dbms\",\"p&s\",\"ppl\",\"se\"]\n",
        "marks=[85,96,75,65,83,56]\n",
        "print(sub)\n",
        "print(marks)\n",
        "dic=dict(zip(sub,marks))\n",
        "print(dic)"
      ],
      "execution_count": null,
      "outputs": [
        {
          "output_type": "stream",
          "text": [
            "['daa', 'os', 'dbms', 'p&s', 'ppl', 'se']\n",
            "[85, 96, 75, 65, 83, 56]\n",
            "{'daa': 85, 'os': 96, 'dbms': 75, 'p&s': 65, 'ppl': 83, 'se': 56}\n"
          ],
          "name": "stdout"
        }
      ]
    },
    {
      "cell_type": "markdown",
      "metadata": {
        "id": "MFw7lVgCjEPR"
      },
      "source": [
        " b) Write a program to count frequency of characters in a given file. Can you use characterfrequency to \n",
        "tell whether the given file is a Python program file, C program file or a text file?"
      ]
    },
    {
      "cell_type": "code",
      "metadata": {
        "id": "R5DhIwCCjhTJ"
      },
      "source": [
        "filetype=['.py','.c','.txt']\n",
        "fn=input (\"Enter the file name\")\n",
        "f=open (fn,\"r\")\n",
        "count=dict()\n",
        "for ft in filetypes:\n",
        "   if(ft in fn):\n",
        "      if(ft=='.py'):\n",
        "         print (\"Python file\")\n",
        "      elif(ft=='.c'):\n",
        "         print (\"C file\")\n",
        "      elif(ft=='.txt'):\n",
        "         print (\"text file\")\n",
        "for line in f:\n",
        "   for ch in line:\n",
        "      if ch in count:\n",
        "         count [ch]=count [ch]+1\n",
        "      else:\n",
        "         count [Ch]=1\n",
        "print (count)\n",
        "f.close()"
      ],
      "execution_count": null,
      "outputs": []
    },
    {
      "cell_type": "markdown",
      "metadata": {
        "id": "mrwW-uMO_9JB"
      },
      "source": [
        " Exercise - 7 Files"
      ]
    },
    {
      "cell_type": "markdown",
      "metadata": {
        "id": "JiBIWqPd__Ds"
      },
      "source": [
        "  a) Write a program to print each line of a file in reverse order."
      ]
    },
    {
      "cell_type": "code",
      "metadata": {
        "id": "v13LEJ2UAQgv"
      },
      "source": [
        " obj=open (\"pqr.txt\",\"r\")\n",
        "lines=obj.readlines()\n",
        "for ln in lines:\n",
        "   print (ln[::-1])"
      ],
      "execution_count": null,
      "outputs": []
    },
    {
      "cell_type": "markdown",
      "metadata": {
        "id": "_uUnLTzZAT9e"
      },
      "source": [
        "  b) Write a program to compute the number of characters, words and lines in a file."
      ]
    },
    {
      "cell_type": "code",
      "metadata": {
        "id": "rW7Xi01nAt5K"
      },
      "source": [
        " n1=nc=nw=0\n",
        "obj=open(\"pqr.txt\",\"r\")\n",
        "lines=obj.readlines()\n",
        "for ln in lines:\n",
        "    n1+=1\n",
        "    words=ln.split()\n",
        "    nw=len(words)\n",
        "    nc+=len(ln)\n",
        "print (\"Number of Lines\",n1)\n",
        "print (\"Number of Words\",nw)\n",
        "print (\"Number of Characters\",nc)"
      ],
      "execution_count": null,
      "outputs": []
    },
    {
      "cell_type": "markdown",
      "metadata": {
        "id": "-GownTCJAfDe"
      },
      "source": [
        "Exercise -8 Functions"
      ]
    },
    {
      "cell_type": "markdown",
      "metadata": {
        "id": "9yUDJ04nrdW7"
      },
      "source": [
        " a) Write a function ball collide that takes two balls as parameters and computes if they arecolliding. Your function should return a Boolean representing whether or not the balls arecolliding.\n",
        "Hint: Represent a ball on a plane as a tuple of (x, y, r), r being the radius\n",
        "If (distance between two balls centers) <= (sum of their radii) they (they are colliding)"
      ]
    },
    {
      "cell_type": "code",
      "metadata": {
        "colab": {
          "base_uri": "https://localhost:8080/"
        },
        "id": "Kdz2oNLyru_V",
        "outputId": "e577ab00-f027-48f3-870d-8342970137a1"
      },
      "source": [
        " \n",
        "import math\n",
        " \n",
        "def ball_collide(t1,t2): \n",
        "     x1,y1,r1=t1\n",
        "     \n",
        "     x2,y2,r2=t2\n",
        "     d=math.sqrt((x2-x1)**2+(y2-y1)**2)\n",
        "     if d<=r1+r2: \n",
        "        return True\n",
        "     else :\n",
        "        return False\n",
        "t1=[ ]        \n",
        "t2=[ ]\n",
        "print(\"Enter ball one coordinates and radius\")\n",
        "for i in range(0,3): \n",
        "   x=int(input())\n",
        "   t1.append(x)\n",
        "print(\"Enter ball two coordinates and radius\")   \n",
        "for i in range(0,3): \n",
        "   x=int(input())\n",
        "   t2.append(x)   \n",
        "t1=tuple(t1)\n",
        "t2=tuple(t2)\n",
        "if(ball_collide(t1,t2)): \n",
        "   print(\"Balls are colliding to each other\")\n",
        "else:\n",
        "     print(\"Balls are Not colliding to each other\")"
      ],
      "execution_count": null,
      "outputs": [
        {
          "output_type": "stream",
          "text": [
            "Enter ball one coordinates and radius\n",
            "2\n",
            "4\n",
            "6\n",
            "Enter ball two coordinates and radius\n",
            "3\n",
            "6\n",
            "9\n",
            "Balls are colliding to each other\n"
          ],
          "name": "stdout"
        }
      ]
    },
    {
      "cell_type": "markdown",
      "metadata": {
        "id": "5_QJ1VLIsRM8"
      },
      "source": [
        "b) Find mean, median, mode for the given set of numbers in a list."
      ]
    },
    {
      "cell_type": "code",
      "metadata": {
        "colab": {
          "base_uri": "https://localhost:8080/"
        },
        "id": "FhjIjA3I2Ofo",
        "outputId": "4024ae1a-433a-4413-f202-3f765879035e"
      },
      "source": [
        "def list_mean(num_list):\n",
        "    return sum(num_list)/len(num_list)\n",
        "def list_median(num_list):\n",
        "    num_list.sort()\n",
        "    print (num_list)\n",
        "    n=len(num_list)\n",
        "    print (\"Total\",n)\n",
        "    mid=n//2\n",
        "    print (\"Mid\",mid)\n",
        "    if(n%2==1):\n",
        "       return num_list[mid]\n",
        "    else:\n",
        "       return (num_list[mid-1]+num_list[mid])/2\n",
        "def list_mode(num_list):\n",
        "    num_list.sort()\n",
        "    temp=[]\n",
        "    i=0\n",
        "    while i<len(num_list):\n",
        "       temp.append(num_list.count(num_list[i]))\n",
        "       i+=1\n",
        "    dic=dict (zip (num_list,temp))\n",
        "    mode={k for (k,v) in dic.items() if v==max(temp)}\n",
        "    return mode\n",
        "list=[1,1,2,2,2,3,4,5,3]\n",
        "print (\"Mean of the given list:\",list_mean(list))\n",
        "print (\"Median of the given list:\",list_median(list))\n",
        "print (\"Mode of the given list:\",list_mode(list))"
      ],
      "execution_count": null,
      "outputs": [
        {
          "output_type": "stream",
          "text": [
            "Mean of the given list: 2.5555555555555554\n",
            "[1, 1, 2, 2, 2, 3, 3, 4, 5]\n",
            "Total 9\n",
            "Mid 4\n",
            "Median of the given list: 2\n",
            "Mode of the given list: {2}\n"
          ],
          "name": "stdout"
        }
      ]
    },
    {
      "cell_type": "markdown",
      "metadata": {
        "id": "o61s6lCE63ce"
      },
      "source": [
        "Exercise-9 Function Continue"
      ]
    },
    {
      "cell_type": "markdown",
      "metadata": {
        "id": "rbNs2dS17O0o"
      },
      "source": [
        " a) Write a function nearly equal to test whether two strings are nearly equal. Two strings a and bare \n",
        "nearly equal when a can be generated by a single mutation on b."
      ]
    },
    {
      "cell_type": "code",
      "metadata": {
        "colab": {
          "base_uri": "https://localhost:8080/"
        },
        "id": "Wi7G2Vdi7Qp5",
        "outputId": "9a075fdf-8f75-4006-c5c5-4170a5169c2b"
      },
      "source": [
        "def nearly_eq(str1,str2):\n",
        "    count=0\n",
        "    i=j=0\n",
        "    while (i<len(str1) and j<len(str2)):\n",
        "        if(str1[i]!=str2[j]):\n",
        "          count+=1\n",
        "          if(len(str1)>len(str2)):\n",
        "             i+=1\n",
        "          elif(len(str1)==len(str2)):\n",
        "             pass\n",
        "          else:\n",
        "            i-=1\n",
        "        if (count>1):\n",
        "          return False\n",
        "        i+=1\n",
        "        j+=1\n",
        "        if(count<2):\n",
        "           return True\n",
        "S1=input (\"Enter string1\")\n",
        "S2=input (\"Enter string2\")\n",
        "if(nearly_eq(S1,S2)):\n",
        "   print (\"Strings are nearly equal\")\n",
        "else:\n",
        "   print (\"Strings are not nearly equal\")"
      ],
      "execution_count": null,
      "outputs": [
        {
          "output_type": "stream",
          "text": [
            "Enter string1Sai\n",
            "Enter string2Swami\n",
            "Strings are nearly equal\n"
          ],
          "name": "stdout"
        }
      ]
    },
    {
      "cell_type": "markdown",
      "metadata": {
        "id": "olF6lUsN-Jr5"
      },
      "source": [
        " b) Write a function dup to find all duplicates in the list."
      ]
    },
    {
      "cell_type": "code",
      "metadata": {
        "colab": {
          "base_uri": "https://localhost:8080/"
        },
        "id": "Rp6SORJxBtBt",
        "outputId": "224832c7-8e3b-4532-8f50-f95748a83bda"
      },
      "source": [
        " \n",
        "def dup(list1,n):\n",
        "    lista=[ ]\n",
        "    for i in range(0,n):\n",
        "        count=1\n",
        "        for j in range(i+1,n):\n",
        "            if(list1[i]==list1[j] ):\n",
        "                count+=1\n",
        "                list1[j]=-1\n",
        "        \n",
        "        if(count>1 and list1[i]!=-1):\n",
        "            lista.append(list1[i])\n",
        "               \n",
        "    print(\"The duplicate elements in list is ::\",lista)\n",
        "     \n",
        "list1=[ ]\n",
        "n=int(input(\"Enter n value\"))\n",
        " \n",
        "print(\"Enter data\")\n",
        "for i in range(0,n):\n",
        "    x=int(input())\n",
        "    list1.append(x)\n",
        "dup(list1,n)"
      ],
      "execution_count": null,
      "outputs": [
        {
          "output_type": "stream",
          "text": [
            "Enter n value6\n",
            "Enter data\n",
            "10\n",
            "2\n",
            "3\n",
            "5\n",
            "10\n",
            "2\n",
            "The duplicate elements in list is :: [10, 2]\n"
          ],
          "name": "stdout"
        }
      ]
    },
    {
      "cell_type": "markdown",
      "metadata": {
        "id": "c8tzld1xCHuG"
      },
      "source": [
        " c) Write a function unique to find all the unique elements of a list."
      ]
    },
    {
      "cell_type": "code",
      "metadata": {
        "colab": {
          "base_uri": "https://localhost:8080/"
        },
        "id": "eUraVaZKCNp1",
        "outputId": "9603aad3-99c7-4296-a405-434889cc50fa"
      },
      "source": [
        " \n",
        "def unique (list1,n):\n",
        "    lista=[ ]\n",
        "    for i in range(0,n):\n",
        "        count=1\n",
        "        for j in range(i+1,n):\n",
        "            if(list1[i]==list1[j] ):\n",
        "                count+=1\n",
        "                list1[j]=-1\n",
        "        \n",
        "        if(count==1 and list1[i]!=-1):\n",
        "            lista.append(list1[i])\n",
        "               \n",
        "    print(\"The unique elements in list is ::\",lista)\n",
        "     \n",
        "list1=[ ]\n",
        "n=int(input(\"Enter n value\"))\n",
        " \n",
        "print(\"Enter data\")\n",
        "for i in range(0,n):\n",
        "    x=int(input())\n",
        "    list1.append(x)\n",
        "unique(list1,n)"
      ],
      "execution_count": null,
      "outputs": [
        {
          "output_type": "stream",
          "text": [
            "Enter n value5\n",
            "Enter data\n",
            "10\n",
            "6\n",
            "3\n",
            "10\n",
            "9\n",
            "The unique elements in list is :: [6, 3, 9]\n"
          ],
          "name": "stdout"
        }
      ]
    },
    {
      "cell_type": "markdown",
      "metadata": {
        "id": "Yz1XkkEdDA6W"
      },
      "source": [
        "Exercise-10 Functions Problem- Solving"
      ]
    },
    {
      "cell_type": "markdown",
      "metadata": {
        "id": "0RBWGKA0DN2J"
      },
      "source": [
        " a) Write a function cumulative product to compute cumulative product of a list of numbers."
      ]
    },
    {
      "cell_type": "code",
      "metadata": {
        "colab": {
          "base_uri": "https://localhost:8080/"
        },
        "id": "zyvvy8nHDPKb",
        "outputId": "9824e448-6a71-43b9-e59e-b49a2dd0ad5d"
      },
      "source": [
        " \n",
        "def cummulative_product(list1,n): \n",
        "    listcp=[ ]\n",
        "    i=0\n",
        "    listcp.append(list1[i])\n",
        "    for i in range(1,n):\n",
        "      x=list1[i]*listcp[i-1]\n",
        "      listcp.append(x)\n",
        "    print(listcp)\n",
        "list1=[ ]\n",
        "n=int(input(\"Enter your lists size\"))\n",
        "print(\"Enter your data\")\n",
        "for i in range(0,n): \n",
        "  x=int(input())\n",
        "  list1.append(x)\n",
        "cummulative_product(list1,n)"
      ],
      "execution_count": null,
      "outputs": [
        {
          "output_type": "stream",
          "text": [
            "Enter your lists size5\n",
            "Enter your data\n",
            "10\n",
            "1\n",
            "2\n",
            "4\n",
            "3\n",
            "[10, 10, 20, 80, 240]\n"
          ],
          "name": "stdout"
        }
      ]
    },
    {
      "cell_type": "markdown",
      "metadata": {
        "id": "quSkIERIDku3"
      },
      "source": [
        " b) Write a function reverse to reverse a list. Without using the reverse function."
      ]
    },
    {
      "cell_type": "code",
      "metadata": {
        "colab": {
          "base_uri": "https://localhost:8080/"
        },
        "id": "a81vr-1WD2mn",
        "outputId": "0bc64191-eb93-4dd0-e835-c458b2fea4b1"
      },
      "source": [
        "def reverse_list(list1):\n",
        "    i=0\n",
        "    j=len(list1)-1\n",
        "    while (i<=j):\n",
        "       temp=list1[i]\n",
        "       list1[i]=list1[j]\n",
        "       list1[j]=temp\n",
        "       i+=1\n",
        "       j-=1\n",
        "list1=[]\n",
        "n=int(input (\"Enter your list size\"))\n",
        "print (\"Enter data\")\n",
        "for i in range (0,n):\n",
        "  x=int(input ())\n",
        "  list1.append(x)\n",
        "reverse_list(list1)\n",
        "print (\"List after reverse function\",list1)"
      ],
      "execution_count": null,
      "outputs": [
        {
          "output_type": "stream",
          "text": [
            "Enter your list size5\n",
            "Enter data\n",
            "10\n",
            "20\n",
            "30\n",
            "40\n",
            "50\n",
            "List after reverse function [50, 40, 30, 20, 10]\n"
          ],
          "name": "stdout"
        }
      ]
    },
    {
      "cell_type": "markdown",
      "metadata": {
        "id": "i9-3mOUPHUNQ"
      },
      "source": [
        " c) Write function to compute gcd, lcm of two numbers. Each function shouldn’t exceed one line."
      ]
    },
    {
      "cell_type": "code",
      "metadata": {
        "colab": {
          "base_uri": "https://localhost:8080/"
        },
        "id": "NEpooY8OHV4f",
        "outputId": "fd1f2b12-f58a-47fb-eacb-c092b450025a"
      },
      "source": [
        " \n",
        "gcd=lambda a,b : a if b==0 else gcd(a,a%b)\n",
        "lcm=lambda a,b : (a*b)/gcd(a,b)\n",
        " \n",
        "a=int(input(\"Enter a value\"))\n",
        "b=int(input(\"Enter b value\"))\n",
        "print(\"GCD of two numbers is ::\",gcd(a,b))\n",
        "print(\"LCM of two numbers is ::\",lcm(a,b))"
      ],
      "execution_count": null,
      "outputs": [
        {
          "output_type": "stream",
          "text": [
            "Enter a value6\n",
            "Enter b value6\n",
            "GCD of two numbers is :: 6\n",
            "LCM of two numbers is :: 6.0\n"
          ],
          "name": "stdout"
        }
      ]
    },
    {
      "cell_type": "markdown",
      "metadata": {
        "id": "VbPiSr7nwN7S"
      },
      "source": [
        " Exercise 11 Multi D lists"
      ]
    },
    {
      "cell_type": "markdown",
      "metadata": {
        "id": "3nOHbDGswQ3F"
      },
      "source": [
        " a) Write a program that defines a matrix and prints"
      ]
    },
    {
      "cell_type": "code",
      "metadata": {
        "colab": {
          "base_uri": "https://localhost:8080/"
        },
        "id": "W2e0M3h2wSOS",
        "outputId": "aca0e611-ae3a-439c-e0c6-d23e5878428f"
      },
      "source": [
        " \n",
        "def read_matrix(rows,cols):\n",
        "    print(\" Enter data into matrix \")\n",
        "    return [[int(input())for j in range(0,cols)]for i in range(0,rows)]\n",
        "    \n",
        "def display_matrix(matrix,rows,cols):\n",
        "    for i in range(0,rows):\n",
        "        for j in range(0,cols):\n",
        "            print(matrix[i][j],end='\\t')\n",
        "        print()\n",
        "rows=int(input(\"Enter rows size::\"))\n",
        "cols=int(input(\"Enter cols size::\"))\n",
        " \n",
        "matrix1=read_matrix(rows,cols)\n",
        "print (\"Displaying matrix\")\n",
        "display_matrix(matrix1,rows,cols)"
      ],
      "execution_count": null,
      "outputs": [
        {
          "output_type": "stream",
          "text": [
            "Enter rows size::2\n",
            "Enter cols size::2\n",
            " Enter data into matrix \n",
            "1\n",
            "2\n",
            "3\n",
            "4\n",
            "Displaying matrix\n",
            "1\t2\t\n",
            "3\t4\t\n"
          ],
          "name": "stdout"
        }
      ]
    },
    {
      "cell_type": "markdown",
      "metadata": {
        "id": "VuLjQeNfz-FU"
      },
      "source": [
        " b) Write a program to perform addition of two square matrices"
      ]
    },
    {
      "cell_type": "code",
      "metadata": {
        "colab": {
          "base_uri": "https://localhost:8080/"
        },
        "id": "vbMDWcKvz_4j",
        "outputId": "7f2027a4-3f0d-43f3-eeba-0008ff05044f"
      },
      "source": [
        " \n",
        "def mat_read(rows,cols):\n",
        "    mat=[[int(input(\"Enter the mat[%d,%d] value \"%(i,j)))for j in range(cols)]for i in range (rows)]\n",
        "    return mat\n",
        "def print_mat(rows,cols,mat):\n",
        "    for i in range(rows):\n",
        "        for j in range (cols):\n",
        "            print(mat[i][j],end='\\t')\n",
        "        print()\n",
        "    \n",
        "matA=[[]]\n",
        "matB=[[]]\n",
        "mat_sum=[[]]\n",
        " \n",
        " \n",
        "rows=int(input(\"Enter the row size \"))\n",
        "cols=int(input(\"Enter the column size \"))\n",
        " \n",
        "if(rows==cols):\n",
        "    print(\"For matrix A\")\n",
        "    matA=mat_read(rows,cols)\n",
        "    \n",
        "    print(\"For matrix B\")\n",
        "    matB=mat_read(rows,cols)\n",
        "    \n",
        "    mat_sum=[[matA[i][j]+matB[i][j] for j in range(cols)]for i in range (rows)]\n",
        " \n",
        "    print(\"Matrix A \")\n",
        "    print_mat(rows,cols,matA)\n",
        "    \n",
        "    print(\"Matrix B \")\n",
        "    print_mat(rows,cols,matB)\n",
        "    \n",
        "    print(\"Matrix A+B = \")\n",
        "    print_mat(rows,cols,mat_sum)\n",
        "else:\n",
        "    print(\"Matrix Addition is not possible\")"
      ],
      "execution_count": null,
      "outputs": [
        {
          "output_type": "stream",
          "text": [
            "Enter the row size 2\n",
            "Enter the column size 2\n",
            "For matrix A\n",
            "Enter the mat[0,0] value 1\n",
            "Enter the mat[0,1] value 2\n",
            "Enter the mat[1,0] value 3\n",
            "Enter the mat[1,1] value 4\n",
            "For matrix B\n",
            "Enter the mat[0,0] value 5\n",
            "Enter the mat[0,1] value 6\n",
            "Enter the mat[1,0] value 7\n",
            "Enter the mat[1,1] value 8\n",
            "Matrix A \n",
            "1\t2\t\n",
            "3\t4\t\n",
            "Matrix B \n",
            "5\t6\t\n",
            "7\t8\t\n",
            "Matrix A+B = \n",
            "6\t8\t\n",
            "10\t12\t\n"
          ],
          "name": "stdout"
        }
      ]
    },
    {
      "cell_type": "markdown",
      "metadata": {
        "id": "EFpsLszh0aGb"
      },
      "source": [
        " c) Write a program to perform multiplication of two square matrices"
      ]
    },
    {
      "cell_type": "code",
      "metadata": {
        "colab": {
          "base_uri": "https://localhost:8080/"
        },
        "id": "8onzRVNL0_zC",
        "outputId": "2f051fd4-6945-40da-8002-a3a8a1e06e99"
      },
      "source": [
        " \n",
        "def mat_read(rows,cols):\n",
        "    mat=[[int(input(\"Enter the mat[%d,%d] value \"%(i,j)))for j in range(cols)]for i in range (rows)]\n",
        "    return mat\n",
        "def print_mat(rows,cols,mat):\n",
        "    for i in range(rows):\n",
        "        for j in range (cols):\n",
        "            print(mat[i][j],end='\\t')\n",
        "        print()\n",
        "    \n",
        "matA=[[]]\n",
        "matB=[[]]\n",
        "mat_mul=[[]]\n",
        " \n",
        " \n",
        "rows=int(input(\"Enter the row size \"))\n",
        "cols=int(input(\"Enter the column size \"))\n",
        " \n",
        "if(rows==cols):\n",
        "    print(\"For matrix A\")\n",
        "    matA=mat_read(rows,cols)\n",
        "    \n",
        "    print(\"For matrix B\")\n",
        "    matB=mat_read(rows,cols)\n",
        "    \n",
        "    mat_mul=[[0 for j in range(cols)]for i in range (rows)]\n",
        " \n",
        "    for i in range (rows):\n",
        "        for j in range(cols):\n",
        "            for k in range(cols):\n",
        "                mat_mul[i][j]+=matA[i][k]*matB[k][j]\n",
        " \n",
        "    print(\"Matrix A \")\n",
        "    print_mat(rows,cols,matA)\n",
        "    \n",
        "    print(\"Matrix B \")\n",
        "    print_mat(rows,cols,matB)\n",
        "    \n",
        "    print(\"Matrix A*B = \")\n",
        "    print_mat(rows,cols,mat_mul)\n",
        "else:\n",
        "    print(\"Matrix multiplication is not possible\")"
      ],
      "execution_count": null,
      "outputs": [
        {
          "output_type": "stream",
          "text": [
            "Enter the row size 2\n",
            "Enter the column size 2\n",
            "For matrix A\n",
            "Enter the mat[0,0] value 1\n",
            "Enter the mat[0,1] value 2\n",
            "Enter the mat[1,0] value 3\n",
            "Enter the mat[1,1] value 4\n",
            "For matrix B\n",
            "Enter the mat[0,0] value 5\n",
            "Enter the mat[0,1] value 6\n",
            "Enter the mat[1,0] value 7\n",
            "Enter the mat[1,1] value 8\n",
            "Matrix A \n",
            "1\t2\t\n",
            "3\t4\t\n",
            "Matrix B \n",
            "5\t6\t\n",
            "7\t8\t\n",
            "Matrix A*B = \n",
            "19\t22\t\n",
            "43\t50\t\n"
          ],
          "name": "stdout"
        }
      ]
    }
  ]
}